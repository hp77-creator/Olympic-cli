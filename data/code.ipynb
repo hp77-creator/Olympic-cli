{
 "cells": [
  {
   "cell_type": "code",
   "execution_count": 542,
   "metadata": {},
   "outputs": [],
   "source": [
    "import numpy as np\n",
    "import pandas as pd\n",
    "import pickle"
   ]
  },
  {
   "cell_type": "code",
   "execution_count": 543,
   "metadata": {
    "scrolled": true
   },
   "outputs": [
    {
     "name": "stdout",
     "output_type": "stream",
     "text": [
      "   Year Team          Event    GDP  Population  Host country  \\\n",
      "0  1992  aus  Weightlifting  18570    17402173             0   \n",
      "1  1992  aus         hockey  18570    17402173             0   \n",
      "2  1992  aus     basketball  18570    17402173             0   \n",
      "3  1992  aus        cycling  18570    17402173             0   \n",
      "4  1992  aus       football  18570    17402173             0   \n",
      "\n",
      "   Unemployment Rate (%)  Human development index(HDI)  Life expectancy  \\\n",
      "0                  10.73                          0.87         77.37805   \n",
      "1                  10.73                          0.87         77.37805   \n",
      "2                  10.73                          0.87         77.37805   \n",
      "3                  10.73                          0.87         77.37805   \n",
      "4                  10.73                          0.87         77.37805   \n",
      "\n",
      "   Calories from animal protein (FAO (2017))  \\\n",
      "0                                     283.56   \n",
      "1                                     283.56   \n",
      "2                                     283.56   \n",
      "3                                     283.56   \n",
      "4                                     283.56   \n",
      "\n",
      "   Calories from plant protein (FAO (2017))  Calories from fat (FAO (2017))  \\\n",
      "0                                    133.48                         1185.57   \n",
      "1                                    133.48                         1185.57   \n",
      "2                                    133.48                         1185.57   \n",
      "3                                    133.48                         1185.57   \n",
      "4                                    133.48                         1185.57   \n",
      "\n",
      "   Calories from carbohydrates (FAO (2017))  Comm./Dem.  PARTICIPANT  GOLD  \\\n",
      "0                                   1522.39           1            4     0   \n",
      "1                                   1522.39           1           32     0   \n",
      "2                                   1522.39           1           12     0   \n",
      "3                                   1522.39           1           19     0   \n",
      "4                                   1522.39           1           19     0   \n",
      "\n",
      "   SILVER  BRONZE  \n",
      "0       0       0  \n",
      "1       1       0  \n",
      "2       0       0  \n",
      "3       1       0  \n",
      "4       0       0  \n"
     ]
    }
   ],
   "source": [
    "df = pd.read_excel('final-data.xlsx')\n",
    "print(df.head())"
   ]
  },
  {
   "cell_type": "code",
   "execution_count": 544,
   "metadata": {},
   "outputs": [],
   "source": [
    "# df.isna().sum()"
   ]
  },
  {
   "cell_type": "code",
   "execution_count": 545,
   "metadata": {},
   "outputs": [],
   "source": [
    "def normalize(x):\n",
    "    x_min = np.min(x)\n",
    "    x_max = np.max(x)\n",
    "    x -= x_min\n",
    "    x /= (x_max-x_min)\n",
    "    return x"
   ]
  },
  {
   "cell_type": "code",
   "execution_count": 546,
   "metadata": {},
   "outputs": [],
   "source": [
    "def sigmoid(x):\n",
    "    sig = 1 / (1 + np.exp(-x))\n",
    "    return sig"
   ]
  },
  {
   "cell_type": "code",
   "execution_count": 547,
   "metadata": {},
   "outputs": [],
   "source": [
    "event = 'swimming'\n",
    "df = df.loc[df.Event == event]\n",
    "# print(df.head(5))"
   ]
  },
  {
   "cell_type": "code",
   "execution_count": 548,
   "metadata": {},
   "outputs": [],
   "source": [
    "train = df.loc[df.Year <= 2008]\n",
    "test = df.loc[df.Year > 2008]\n"
   ]
  },
  {
   "cell_type": "code",
   "execution_count": 549,
   "metadata": {},
   "outputs": [],
   "source": [
    "x_train = train.drop('GOLD',axis=1)\n",
    "x_train = x_train.drop('SILVER',axis=1)\n",
    "x_train = x_train.drop('BRONZE',axis=1)\n",
    "x_train = x_train.drop('Year',axis=1)\n",
    "x_train = x_train.drop('Team',axis=1)\n",
    "x_train = x_train.drop('Event',axis=1)\n",
    "# print(x_train)"
   ]
  },
  {
   "cell_type": "code",
   "execution_count": 550,
   "metadata": {},
   "outputs": [],
   "source": [
    "train_gold = train['GOLD']\n",
    "train_silver = train['SILVER']\n",
    "train_bronze = train['BRONZE']\n",
    "# y_train = pd.concat([train_gold,train_silver,train_bronze],axis=1)\n",
    "y_train = 5*train_gold + 3*train_silver + train_bronze\n",
    "# print(y_train)"
   ]
  },
  {
   "cell_type": "code",
   "execution_count": 551,
   "metadata": {},
   "outputs": [],
   "source": [
    "x_test = test.drop('GOLD',axis=1)\n",
    "x_test = x_test.drop('SILVER',axis=1)\n",
    "x_test = x_test.drop('BRONZE',axis=1)\n",
    "x_test = x_test.drop('Year',axis=1)\n",
    "x_test = x_test.drop('Team',axis=1)\n",
    "x_test = x_test.drop('Event',axis=1)\n",
    "# print(x_test)"
   ]
  },
  {
   "cell_type": "code",
   "execution_count": 552,
   "metadata": {},
   "outputs": [],
   "source": [
    "test_gold = test['GOLD']\n",
    "test_silver = test['SILVER']\n",
    "test_bronze = test['BRONZE']\n",
    "# y_test = pd.concat([test_gold,test_silver,test_bronze],axis=1)\n",
    "y_test = 5*test_gold + 3*test_silver + test_bronze\n",
    "# print(y_test)"
   ]
  },
  {
   "cell_type": "code",
   "execution_count": 553,
   "metadata": {},
   "outputs": [
    {
     "name": "stdout",
     "output_type": "stream",
     "text": [
      "[0 0 5 0 0 0 1 0 1]\n",
      "[[6.80120000e+04 2.29039480e+07 0.00000000e+00 5.22000000e+00\n",
      "  9.40000000e-01 8.20463400e+01 2.81160000e+02 1.36880000e+02\n",
      "  1.37133000e+03 1.46763000e+03 1.00000000e+00 8.90000000e+01]\n",
      " [5.26690000e+04 3.49220300e+07 0.00000000e+00 7.40000000e+00\n",
      "  9.10000000e-01 8.16487800e+01 2.21640000e+02 1.96760000e+02\n",
      "  1.34109000e+03 1.72551000e+03 1.00000000e+00 6.00000000e+01]\n",
      " [6.31700000e+03 1.38420640e+09 0.00000000e+00 1.02800000e+01\n",
      "  7.20000000e-01 7.50130000e+01 1.56840000e+02 2.32680000e+02\n",
      "  8.59770000e+02 1.84871000e+03 0.00000000e+00 8.10000000e+01]\n",
      " [4.08720000e+04 6.35642210e+07 0.00000000e+00 9.40000000e+00\n",
      "  8.90000000e-01 8.19682900e+01 2.79120000e+02 1.65880000e+02\n",
      "  1.41948000e+03 1.59552000e+03 1.00000000e+00 5.40000000e+01]\n",
      " [1.44400000e+03 1.26578025e+09 0.00000000e+00 5.66000000e+00\n",
      "  6.00000000e-01 6.75450000e+01 4.88000000e+01 1.87920000e+02\n",
      "  4.73670000e+02 1.72461000e+03 1.00000000e+00 1.00000000e+00]\n",
      " [3.50520000e+04 5.98794710e+07 0.00000000e+00 1.06600000e+01\n",
      "  8.80000000e-01 8.22390200e+01 2.38520000e+02 1.97880000e+02\n",
      "  1.42110000e+03 1.71750000e+03 1.00000000e+00 5.30000000e+01]\n",
      " [4.86030000e+04 1.28423571e+08 0.00000000e+00 4.56000000e+00\n",
      "  9.00000000e-01 8.30961000e+01 1.97120000e+02 1.57160000e+02\n",
      "  7.85070000e+02 1.60065000e+03 1.00000000e+00 5.30000000e+01]\n",
      " [4.24490000e+04 6.45253120e+07 0.00000000e+00 8.00000000e+00\n",
      "  9.00000000e-01 8.09048800e+01 2.35240000e+02 1.78360000e+02\n",
      "  1.24614000e+03 1.74326000e+03 1.00000000e+00 8.10000000e+01]\n",
      " [5.16030000e+04 3.14043885e+08 0.00000000e+00 7.90000000e+00\n",
      "  9.20000000e-01 7.87414600e+01 2.79040000e+02 1.59680000e+02\n",
      "  1.46007000e+03 1.78821000e+03 1.00000000e+00 9.70000000e+01]]\n"
     ]
    }
   ],
   "source": [
    "X_train = np.array(x_train)\n",
    "X_test = np.array(x_test)\n",
    "Y_train = np.array(y_train)\n",
    "Y_test = np.array(y_test)\n",
    "print(Y_test)\n",
    "print(X_test)"
   ]
  },
  {
   "cell_type": "code",
   "execution_count": 554,
   "metadata": {},
   "outputs": [],
   "source": [
    "# from sklearn.linear_model import LogisticRegression\n",
    "# model = LogisticRegression(multi_class='multinomial',solver='lbfgs')"
   ]
  },
  {
   "cell_type": "code",
   "execution_count": 555,
   "metadata": {},
   "outputs": [],
   "source": [
    "from sklearn.svm import LinearSVC\n",
    "from sklearn.pipeline import make_pipeline\n",
    "from sklearn.preprocessing import StandardScaler\n",
    "\n",
    "model = make_pipeline(StandardScaler(),\n",
    "                    LinearSVC(random_state=0, tol=1e-5))"
   ]
  },
  {
   "cell_type": "code",
   "execution_count": 556,
   "metadata": {},
   "outputs": [
    {
     "data": {
      "text/plain": [
       "Pipeline(steps=[('standardscaler', StandardScaler()),\n",
       "                ('linearsvc', LinearSVC(random_state=0, tol=1e-05))])"
      ]
     },
     "execution_count": 556,
     "metadata": {},
     "output_type": "execute_result"
    }
   ],
   "source": [
    "model.fit(X_train,Y_train)\n",
    "#filename = event+'.sav'\n",
    "#pickle.dump(model, open(filename, 'wb'))\n",
    "\n",
    "\n",
    " "
   ]
  },
  {
   "cell_type": "code",
   "execution_count": 557,
   "metadata": {},
   "outputs": [
    {
     "name": "stdout",
     "output_type": "stream",
     "text": [
      "[0 0 0 0 0 0 0 0 6]\n",
      "[0 0 5 0 0 0 1 0 1]\n"
     ]
    }
   ],
   "source": [
    "model.predict([[68310,331449281,0,8.31,0.926,77.3,279.04,159.68,1460.07,1788.21,1,96]])\n",
    "print(model.predict(X_test))\n",
    "print(Y_test)"
   ]
  },
  {
   "cell_type": "code",
   "execution_count": 558,
   "metadata": {},
   "outputs": [
    {
     "data": {
      "text/plain": [
       "0.6666666666666666"
      ]
     },
     "execution_count": 558,
     "metadata": {},
     "output_type": "execute_result"
    }
   ],
   "source": [
    "model.score(X_test,Y_test)"
   ]
  },
  {
   "cell_type": "code",
   "execution_count": 559,
   "metadata": {},
   "outputs": [
    {
     "data": {
      "text/plain": [
       "(9, 12)"
      ]
     },
     "execution_count": 559,
     "metadata": {},
     "output_type": "execute_result"
    }
   ],
   "source": [
    "X_test.shape"
   ]
  },
  {
   "cell_type": "code",
   "execution_count": null,
   "metadata": {},
   "outputs": [],
   "source": []
  }
 ],
 "metadata": {
  "kernelspec": {
   "display_name": "Python 3",
   "language": "python",
   "name": "python3"
  },
  "language_info": {
   "codemirror_mode": {
    "name": "ipython",
    "version": 3
   },
   "file_extension": ".py",
   "mimetype": "text/x-python",
   "name": "python",
   "nbconvert_exporter": "python",
   "pygments_lexer": "ipython3",
   "version": "3.8.5"
  }
 },
 "nbformat": 4,
 "nbformat_minor": 5
}
