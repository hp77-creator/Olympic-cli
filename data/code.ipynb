{
 "cells": [
  {
   "cell_type": "code",
   "execution_count": 1,
   "source": [
    "import numpy as np\n",
    "import pandas as pd\n",
    "import pickle"
   ],
   "outputs": [],
   "metadata": {}
  },
  {
   "cell_type": "code",
   "execution_count": 3,
   "source": [
    "df = pd.read_excel('final-data.xlsx')\n",
    "print(df.head())"
   ],
   "outputs": [
    {
     "output_type": "stream",
     "name": "stdout",
     "text": [
      "   Year Team          Event    GDP  Population  Host country  \\\n",
      "0  1992  aus  Weightlifting  18570    17402173             0   \n",
      "1  1992  aus         hockey  18570    17402173             0   \n",
      "2  1992  aus     basketball  18570    17402173             0   \n",
      "3  1992  aus        cycling  18570    17402173             0   \n",
      "4  1992  aus       football  18570    17402173             0   \n",
      "\n",
      "   Unemployment Rate (%)  Human development index(HDI)  Life expectancy  \\\n",
      "0                  10.73                          0.87         77.37805   \n",
      "1                  10.73                          0.87         77.37805   \n",
      "2                  10.73                          0.87         77.37805   \n",
      "3                  10.73                          0.87         77.37805   \n",
      "4                  10.73                          0.87         77.37805   \n",
      "\n",
      "   Calories from animal protein (FAO (2017))  \\\n",
      "0                                     283.56   \n",
      "1                                     283.56   \n",
      "2                                     283.56   \n",
      "3                                     283.56   \n",
      "4                                     283.56   \n",
      "\n",
      "   Calories from plant protein (FAO (2017))  Calories from fat (FAO (2017))  \\\n",
      "0                                    133.48                         1185.57   \n",
      "1                                    133.48                         1185.57   \n",
      "2                                    133.48                         1185.57   \n",
      "3                                    133.48                         1185.57   \n",
      "4                                    133.48                         1185.57   \n",
      "\n",
      "   Calories from carbohydrates (FAO (2017))  Comm./Dem.  PARTICIPANT  GOLD  \\\n",
      "0                                   1522.39           1            4     0   \n",
      "1                                   1522.39           1           32     0   \n",
      "2                                   1522.39           1           12     0   \n",
      "3                                   1522.39           1           19     0   \n",
      "4                                   1522.39           1           19     0   \n",
      "\n",
      "   SILVER  BRONZE  \n",
      "0       0       0  \n",
      "1       1       0  \n",
      "2       0       0  \n",
      "3       1       0  \n",
      "4       0       0  \n"
     ]
    }
   ],
   "metadata": {
    "scrolled": true
   }
  },
  {
   "cell_type": "code",
   "execution_count": 544,
   "source": [
    "# df.isna().sum()"
   ],
   "outputs": [],
   "metadata": {}
  },
  {
   "cell_type": "code",
   "execution_count": 4,
   "source": [
    "def normalize(x):\n",
    "    x_min = np.min(x)\n",
    "    x_max = np.max(x)\n",
    "    x -= x_min\n",
    "    x /= (x_max-x_min)\n",
    "    return x"
   ],
   "outputs": [],
   "metadata": {}
  },
  {
   "cell_type": "code",
   "execution_count": 5,
   "source": [
    "def sigmoid(x):\n",
    "    sig = 1 / (1 + np.exp(-x))\n",
    "    return sig"
   ],
   "outputs": [],
   "metadata": {}
  },
  {
   "cell_type": "code",
   "execution_count": 6,
   "source": [
    "event = 'swimming'\n",
    "df = df.loc[df.Event == event]\n",
    "# print(df.head(5))"
   ],
   "outputs": [],
   "metadata": {}
  },
  {
   "cell_type": "code",
   "execution_count": 7,
   "source": [
    "train = df.loc[df.Year <= 2008]\n",
    "test = df.loc[df.Year > 2008]\n"
   ],
   "outputs": [],
   "metadata": {}
  },
  {
   "cell_type": "code",
   "execution_count": 8,
   "source": [
    "x_train = train.drop('GOLD',axis=1)\n",
    "x_train = x_train.drop('SILVER',axis=1)\n",
    "x_train = x_train.drop('BRONZE',axis=1)\n",
    "x_train = x_train.drop('Year',axis=1)\n",
    "x_train = x_train.drop('Team',axis=1)\n",
    "x_train = x_train.drop('Event',axis=1)\n",
    "# print(x_train)"
   ],
   "outputs": [],
   "metadata": {}
  },
  {
   "cell_type": "code",
   "execution_count": 9,
   "source": [
    "train_gold = train['GOLD']\n",
    "train_silver = train['SILVER']\n",
    "train_bronze = train['BRONZE']\n",
    "# y_train = pd.concat([train_gold,train_silver,train_bronze],axis=1)\n",
    "y_train = 5*train_gold + 3*train_silver + train_bronze\n",
    "# print(y_train)"
   ],
   "outputs": [],
   "metadata": {}
  },
  {
   "cell_type": "code",
   "execution_count": 10,
   "source": [
    "x_test = test.drop('GOLD',axis=1)\n",
    "x_test = x_test.drop('SILVER',axis=1)\n",
    "x_test = x_test.drop('BRONZE',axis=1)\n",
    "x_test = x_test.drop('Year',axis=1)\n",
    "x_test = x_test.drop('Team',axis=1)\n",
    "x_test = x_test.drop('Event',axis=1)\n",
    "# print(x_test)"
   ],
   "outputs": [],
   "metadata": {}
  },
  {
   "cell_type": "code",
   "execution_count": 11,
   "source": [
    "test_gold = test['GOLD']\n",
    "test_silver = test['SILVER']\n",
    "test_bronze = test['BRONZE']\n",
    "# y_test = pd.concat([test_gold,test_silver,test_bronze],axis=1)\n",
    "y_test = 5*test_gold + 3*test_silver + test_bronze\n",
    "# print(y_test)"
   ],
   "outputs": [],
   "metadata": {}
  },
  {
   "cell_type": "code",
   "execution_count": 13,
   "source": [
    "x_test.head()"
   ],
   "outputs": [
    {
     "output_type": "execute_result",
     "data": {
      "text/html": [
       "<div>\n",
       "<style scoped>\n",
       "    .dataframe tbody tr th:only-of-type {\n",
       "        vertical-align: middle;\n",
       "    }\n",
       "\n",
       "    .dataframe tbody tr th {\n",
       "        vertical-align: top;\n",
       "    }\n",
       "\n",
       "    .dataframe thead th {\n",
       "        text-align: right;\n",
       "    }\n",
       "</style>\n",
       "<table border=\"1\" class=\"dataframe\">\n",
       "  <thead>\n",
       "    <tr style=\"text-align: right;\">\n",
       "      <th></th>\n",
       "      <th>GDP</th>\n",
       "      <th>Population</th>\n",
       "      <th>Host country</th>\n",
       "      <th>Unemployment Rate (%)</th>\n",
       "      <th>Human development index(HDI)</th>\n",
       "      <th>Life expectancy</th>\n",
       "      <th>Calories from animal protein (FAO (2017))</th>\n",
       "      <th>Calories from plant protein (FAO (2017))</th>\n",
       "      <th>Calories from fat (FAO (2017))</th>\n",
       "      <th>Calories from carbohydrates (FAO (2017))</th>\n",
       "      <th>Comm./Dem.</th>\n",
       "      <th>PARTICIPANT</th>\n",
       "    </tr>\n",
       "  </thead>\n",
       "  <tbody>\n",
       "    <tr>\n",
       "      <th>501</th>\n",
       "      <td>68012</td>\n",
       "      <td>22903948</td>\n",
       "      <td>0</td>\n",
       "      <td>5.22</td>\n",
       "      <td>0.94</td>\n",
       "      <td>82.04634</td>\n",
       "      <td>281.16</td>\n",
       "      <td>136.88</td>\n",
       "      <td>1371.33</td>\n",
       "      <td>1467.63</td>\n",
       "      <td>1</td>\n",
       "      <td>89</td>\n",
       "    </tr>\n",
       "    <tr>\n",
       "      <th>512</th>\n",
       "      <td>52669</td>\n",
       "      <td>34922030</td>\n",
       "      <td>0</td>\n",
       "      <td>7.40</td>\n",
       "      <td>0.91</td>\n",
       "      <td>81.64878</td>\n",
       "      <td>221.64</td>\n",
       "      <td>196.76</td>\n",
       "      <td>1341.09</td>\n",
       "      <td>1725.51</td>\n",
       "      <td>1</td>\n",
       "      <td>60</td>\n",
       "    </tr>\n",
       "    <tr>\n",
       "      <th>523</th>\n",
       "      <td>6317</td>\n",
       "      <td>1384206401</td>\n",
       "      <td>0</td>\n",
       "      <td>10.28</td>\n",
       "      <td>0.72</td>\n",
       "      <td>75.01300</td>\n",
       "      <td>156.84</td>\n",
       "      <td>232.68</td>\n",
       "      <td>859.77</td>\n",
       "      <td>1848.71</td>\n",
       "      <td>0</td>\n",
       "      <td>81</td>\n",
       "    </tr>\n",
       "    <tr>\n",
       "      <th>534</th>\n",
       "      <td>40872</td>\n",
       "      <td>63564221</td>\n",
       "      <td>0</td>\n",
       "      <td>9.40</td>\n",
       "      <td>0.89</td>\n",
       "      <td>81.96829</td>\n",
       "      <td>279.12</td>\n",
       "      <td>165.88</td>\n",
       "      <td>1419.48</td>\n",
       "      <td>1595.52</td>\n",
       "      <td>1</td>\n",
       "      <td>54</td>\n",
       "    </tr>\n",
       "    <tr>\n",
       "      <th>545</th>\n",
       "      <td>1444</td>\n",
       "      <td>1265780247</td>\n",
       "      <td>0</td>\n",
       "      <td>5.66</td>\n",
       "      <td>0.60</td>\n",
       "      <td>67.54500</td>\n",
       "      <td>48.80</td>\n",
       "      <td>187.92</td>\n",
       "      <td>473.67</td>\n",
       "      <td>1724.61</td>\n",
       "      <td>1</td>\n",
       "      <td>1</td>\n",
       "    </tr>\n",
       "  </tbody>\n",
       "</table>\n",
       "</div>"
      ],
      "text/plain": [
       "       GDP  Population  Host country  Unemployment Rate (%)  \\\n",
       "501  68012    22903948             0                   5.22   \n",
       "512  52669    34922030             0                   7.40   \n",
       "523   6317  1384206401             0                  10.28   \n",
       "534  40872    63564221             0                   9.40   \n",
       "545   1444  1265780247             0                   5.66   \n",
       "\n",
       "     Human development index(HDI)  Life expectancy  \\\n",
       "501                          0.94         82.04634   \n",
       "512                          0.91         81.64878   \n",
       "523                          0.72         75.01300   \n",
       "534                          0.89         81.96829   \n",
       "545                          0.60         67.54500   \n",
       "\n",
       "     Calories from animal protein (FAO (2017))  \\\n",
       "501                                     281.16   \n",
       "512                                     221.64   \n",
       "523                                     156.84   \n",
       "534                                     279.12   \n",
       "545                                      48.80   \n",
       "\n",
       "     Calories from plant protein (FAO (2017))  Calories from fat (FAO (2017))  \\\n",
       "501                                    136.88                         1371.33   \n",
       "512                                    196.76                         1341.09   \n",
       "523                                    232.68                          859.77   \n",
       "534                                    165.88                         1419.48   \n",
       "545                                    187.92                          473.67   \n",
       "\n",
       "     Calories from carbohydrates (FAO (2017))  Comm./Dem.  PARTICIPANT  \n",
       "501                                   1467.63           1           89  \n",
       "512                                   1725.51           1           60  \n",
       "523                                   1848.71           0           81  \n",
       "534                                   1595.52           1           54  \n",
       "545                                   1724.61           1            1  "
      ]
     },
     "metadata": {},
     "execution_count": 13
    }
   ],
   "metadata": {}
  },
  {
   "cell_type": "code",
   "execution_count": 12,
   "source": [
    "X_train = np.array(x_train)\n",
    "X_test = np.array(x_test)\n",
    "Y_train = np.array(y_train)\n",
    "Y_test = np.array(y_test)\n",
    "print(Y_test)\n",
    "print(X_test)"
   ],
   "outputs": [
    {
     "output_type": "stream",
     "name": "stdout",
     "text": [
      "[0 0 5 0 0 0 1 0 1]\n",
      "[[6.80120000e+04 2.29039480e+07 0.00000000e+00 5.22000000e+00\n",
      "  9.40000000e-01 8.20463400e+01 2.81160000e+02 1.36880000e+02\n",
      "  1.37133000e+03 1.46763000e+03 1.00000000e+00 8.90000000e+01]\n",
      " [5.26690000e+04 3.49220300e+07 0.00000000e+00 7.40000000e+00\n",
      "  9.10000000e-01 8.16487800e+01 2.21640000e+02 1.96760000e+02\n",
      "  1.34109000e+03 1.72551000e+03 1.00000000e+00 6.00000000e+01]\n",
      " [6.31700000e+03 1.38420640e+09 0.00000000e+00 1.02800000e+01\n",
      "  7.20000000e-01 7.50130000e+01 1.56840000e+02 2.32680000e+02\n",
      "  8.59770000e+02 1.84871000e+03 0.00000000e+00 8.10000000e+01]\n",
      " [4.08720000e+04 6.35642210e+07 0.00000000e+00 9.40000000e+00\n",
      "  8.90000000e-01 8.19682900e+01 2.79120000e+02 1.65880000e+02\n",
      "  1.41948000e+03 1.59552000e+03 1.00000000e+00 5.40000000e+01]\n",
      " [1.44400000e+03 1.26578025e+09 0.00000000e+00 5.66000000e+00\n",
      "  6.00000000e-01 6.75450000e+01 4.88000000e+01 1.87920000e+02\n",
      "  4.73670000e+02 1.72461000e+03 1.00000000e+00 1.00000000e+00]\n",
      " [3.50520000e+04 5.98794710e+07 0.00000000e+00 1.06600000e+01\n",
      "  8.80000000e-01 8.22390200e+01 2.38520000e+02 1.97880000e+02\n",
      "  1.42110000e+03 1.71750000e+03 1.00000000e+00 5.30000000e+01]\n",
      " [4.86030000e+04 1.28423571e+08 0.00000000e+00 4.56000000e+00\n",
      "  9.00000000e-01 8.30961000e+01 1.97120000e+02 1.57160000e+02\n",
      "  7.85070000e+02 1.60065000e+03 1.00000000e+00 5.30000000e+01]\n",
      " [4.24490000e+04 6.45253120e+07 0.00000000e+00 8.00000000e+00\n",
      "  9.00000000e-01 8.09048800e+01 2.35240000e+02 1.78360000e+02\n",
      "  1.24614000e+03 1.74326000e+03 1.00000000e+00 8.10000000e+01]\n",
      " [5.16030000e+04 3.14043885e+08 0.00000000e+00 7.90000000e+00\n",
      "  9.20000000e-01 7.87414600e+01 2.79040000e+02 1.59680000e+02\n",
      "  1.46007000e+03 1.78821000e+03 1.00000000e+00 9.70000000e+01]]\n"
     ]
    }
   ],
   "metadata": {}
  },
  {
   "cell_type": "code",
   "execution_count": 554,
   "source": [
    "# from sklearn.linear_model import LogisticRegression\n",
    "# model = LogisticRegression(multi_class='multinomial',solver='lbfgs')"
   ],
   "outputs": [],
   "metadata": {}
  },
  {
   "cell_type": "code",
   "execution_count": 555,
   "source": [
    "from sklearn.svm import LinearSVC\n",
    "from sklearn.pipeline import make_pipeline\n",
    "from sklearn.preprocessing import StandardScaler\n",
    "\n",
    "model = make_pipeline(StandardScaler(),\n",
    "                    LinearSVC(random_state=0, tol=1e-5))"
   ],
   "outputs": [],
   "metadata": {}
  },
  {
   "cell_type": "code",
   "execution_count": 556,
   "source": [
    "model.fit(X_train,Y_train)\n",
    "#filename = event+'.sav'\n",
    "#pickle.dump(model, open(filename, 'wb'))\n",
    "\n",
    "\n",
    " "
   ],
   "outputs": [
    {
     "output_type": "execute_result",
     "data": {
      "text/plain": [
       "Pipeline(steps=[('standardscaler', StandardScaler()),\n",
       "                ('linearsvc', LinearSVC(random_state=0, tol=1e-05))])"
      ]
     },
     "metadata": {},
     "execution_count": 556
    }
   ],
   "metadata": {}
  },
  {
   "cell_type": "code",
   "execution_count": 557,
   "source": [
    "model.predict([[68310,331449281,0,8.31,0.926,77.3,279.04,159.68,1460.07,1788.21,1,96]])\n",
    "print(model.predict(X_test))\n",
    "print(Y_test)"
   ],
   "outputs": [
    {
     "output_type": "stream",
     "name": "stdout",
     "text": [
      "[0 0 0 0 0 0 0 0 6]\n",
      "[0 0 5 0 0 0 1 0 1]\n"
     ]
    }
   ],
   "metadata": {}
  },
  {
   "cell_type": "code",
   "execution_count": 558,
   "source": [
    "model.score(X_test,Y_test)"
   ],
   "outputs": [
    {
     "output_type": "execute_result",
     "data": {
      "text/plain": [
       "0.6666666666666666"
      ]
     },
     "metadata": {},
     "execution_count": 558
    }
   ],
   "metadata": {}
  },
  {
   "cell_type": "code",
   "execution_count": 559,
   "source": [
    "X_test.shape"
   ],
   "outputs": [
    {
     "output_type": "execute_result",
     "data": {
      "text/plain": [
       "(9, 12)"
      ]
     },
     "metadata": {},
     "execution_count": 559
    }
   ],
   "metadata": {}
  },
  {
   "cell_type": "code",
   "execution_count": null,
   "source": [],
   "outputs": [],
   "metadata": {}
  }
 ],
 "metadata": {
  "kernelspec": {
   "name": "python3",
   "display_name": "Python 3.9.7 64-bit ('ml': conda)"
  },
  "language_info": {
   "codemirror_mode": {
    "name": "ipython",
    "version": 3
   },
   "file_extension": ".py",
   "mimetype": "text/x-python",
   "name": "python",
   "nbconvert_exporter": "python",
   "pygments_lexer": "ipython3",
   "version": "3.9.7"
  },
  "interpreter": {
   "hash": "6dce9bd7c82b1abd9a3efc5a4e024605ae8632b455d48c6cfdaff8ecea566d8e"
  }
 },
 "nbformat": 4,
 "nbformat_minor": 5
}