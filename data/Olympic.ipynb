{
 "cells": [
  {
   "cell_type": "code",
   "execution_count": 1,
   "id": "c245d65c",
   "metadata": {},
   "outputs": [],
   "source": [
    "import pandas as pd\n",
    "import numpy as np"
   ]
  },
  {
   "cell_type": "code",
   "execution_count": 2,
   "id": "25ec0ba9",
   "metadata": {},
   "outputs": [],
   "source": [
    "df = pd.read_csv('dataset.csv')"
   ]
  },
  {
   "cell_type": "code",
   "execution_count": 3,
   "id": "bcb9d3d1",
   "metadata": {},
   "outputs": [
    {
     "data": {
      "text/html": [
       "<div>\n",
       "<style scoped>\n",
       "    .dataframe tbody tr th:only-of-type {\n",
       "        vertical-align: middle;\n",
       "    }\n",
       "\n",
       "    .dataframe tbody tr th {\n",
       "        vertical-align: top;\n",
       "    }\n",
       "\n",
       "    .dataframe thead th {\n",
       "        text-align: right;\n",
       "    }\n",
       "</style>\n",
       "<table border=\"1\" class=\"dataframe\">\n",
       "  <thead>\n",
       "    <tr style=\"text-align: right;\">\n",
       "      <th></th>\n",
       "      <th>Year</th>\n",
       "      <th>Team</th>\n",
       "      <th>Event</th>\n",
       "      <th>GDP</th>\n",
       "      <th>Population</th>\n",
       "      <th>Host country</th>\n",
       "      <th>Unemployment Rate (%)</th>\n",
       "      <th>Human development index(HDI)</th>\n",
       "      <th>Life expectancy</th>\n",
       "      <th>Calories from animal protein (FAO (2017))</th>\n",
       "      <th>Calories from plant protein (FAO (2017))</th>\n",
       "      <th>Calories from fat (FAO (2017))</th>\n",
       "      <th>Calories from carbohydrates (FAO (2017))</th>\n",
       "      <th>Comm./Dem.</th>\n",
       "      <th>PARTICIPANT</th>\n",
       "      <th>GOLD</th>\n",
       "      <th>SILVER</th>\n",
       "      <th>BRONZE</th>\n",
       "    </tr>\n",
       "  </thead>\n",
       "  <tbody>\n",
       "    <tr>\n",
       "      <th>0</th>\n",
       "      <td>1992</td>\n",
       "      <td>aus</td>\n",
       "      <td>Weightlifting</td>\n",
       "      <td>18,570</td>\n",
       "      <td>17,402,173</td>\n",
       "      <td>0</td>\n",
       "      <td>10.73</td>\n",
       "      <td>0.87</td>\n",
       "      <td>77.37805</td>\n",
       "      <td>283.56</td>\n",
       "      <td>133.48</td>\n",
       "      <td>1185.57</td>\n",
       "      <td>1522.39</td>\n",
       "      <td>1.0</td>\n",
       "      <td>4</td>\n",
       "      <td>0</td>\n",
       "      <td>0</td>\n",
       "      <td>0</td>\n",
       "    </tr>\n",
       "    <tr>\n",
       "      <th>1</th>\n",
       "      <td>1992</td>\n",
       "      <td>aus</td>\n",
       "      <td>hockey</td>\n",
       "      <td>18,570</td>\n",
       "      <td>17,402,173</td>\n",
       "      <td>0</td>\n",
       "      <td>10.73</td>\n",
       "      <td>0.87</td>\n",
       "      <td>77.37805</td>\n",
       "      <td>283.56</td>\n",
       "      <td>133.48</td>\n",
       "      <td>1185.57</td>\n",
       "      <td>1522.39</td>\n",
       "      <td>1.0</td>\n",
       "      <td>32</td>\n",
       "      <td>0</td>\n",
       "      <td>1</td>\n",
       "      <td>0</td>\n",
       "    </tr>\n",
       "    <tr>\n",
       "      <th>2</th>\n",
       "      <td>1992</td>\n",
       "      <td>aus</td>\n",
       "      <td>basketball</td>\n",
       "      <td>18,570</td>\n",
       "      <td>17,402,173</td>\n",
       "      <td>0</td>\n",
       "      <td>10.73</td>\n",
       "      <td>0.87</td>\n",
       "      <td>77.37805</td>\n",
       "      <td>283.56</td>\n",
       "      <td>133.48</td>\n",
       "      <td>1185.57</td>\n",
       "      <td>1522.39</td>\n",
       "      <td>1.0</td>\n",
       "      <td>12</td>\n",
       "      <td>0</td>\n",
       "      <td>0</td>\n",
       "      <td>0</td>\n",
       "    </tr>\n",
       "    <tr>\n",
       "      <th>3</th>\n",
       "      <td>1992</td>\n",
       "      <td>aus</td>\n",
       "      <td>cycling</td>\n",
       "      <td>18,570</td>\n",
       "      <td>17,402,173</td>\n",
       "      <td>0</td>\n",
       "      <td>10.73</td>\n",
       "      <td>0.87</td>\n",
       "      <td>77.37805</td>\n",
       "      <td>283.56</td>\n",
       "      <td>133.48</td>\n",
       "      <td>1185.57</td>\n",
       "      <td>1522.39</td>\n",
       "      <td>1.0</td>\n",
       "      <td>19</td>\n",
       "      <td>0</td>\n",
       "      <td>1</td>\n",
       "      <td>0</td>\n",
       "    </tr>\n",
       "    <tr>\n",
       "      <th>4</th>\n",
       "      <td>1992</td>\n",
       "      <td>aus</td>\n",
       "      <td>football</td>\n",
       "      <td>18,570</td>\n",
       "      <td>17,402,173</td>\n",
       "      <td>0</td>\n",
       "      <td>10.73</td>\n",
       "      <td>0.87</td>\n",
       "      <td>77.37805</td>\n",
       "      <td>283.56</td>\n",
       "      <td>133.48</td>\n",
       "      <td>1185.57</td>\n",
       "      <td>1522.39</td>\n",
       "      <td>1.0</td>\n",
       "      <td>19</td>\n",
       "      <td>0</td>\n",
       "      <td>0</td>\n",
       "      <td>0</td>\n",
       "    </tr>\n",
       "  </tbody>\n",
       "</table>\n",
       "</div>"
      ],
      "text/plain": [
       "   Year Team          Event     GDP  Population  Host country  \\\n",
       "0  1992  aus  Weightlifting  18,570  17,402,173             0   \n",
       "1  1992  aus         hockey  18,570  17,402,173             0   \n",
       "2  1992  aus     basketball  18,570  17,402,173             0   \n",
       "3  1992  aus        cycling  18,570  17,402,173             0   \n",
       "4  1992  aus       football  18,570  17,402,173             0   \n",
       "\n",
       "   Unemployment Rate (%)  Human development index(HDI)  Life expectancy  \\\n",
       "0                  10.73                          0.87         77.37805   \n",
       "1                  10.73                          0.87         77.37805   \n",
       "2                  10.73                          0.87         77.37805   \n",
       "3                  10.73                          0.87         77.37805   \n",
       "4                  10.73                          0.87         77.37805   \n",
       "\n",
       "   Calories from animal protein (FAO (2017))  \\\n",
       "0                                     283.56   \n",
       "1                                     283.56   \n",
       "2                                     283.56   \n",
       "3                                     283.56   \n",
       "4                                     283.56   \n",
       "\n",
       "   Calories from plant protein (FAO (2017))  Calories from fat (FAO (2017))  \\\n",
       "0                                    133.48                         1185.57   \n",
       "1                                    133.48                         1185.57   \n",
       "2                                    133.48                         1185.57   \n",
       "3                                    133.48                         1185.57   \n",
       "4                                    133.48                         1185.57   \n",
       "\n",
       "   Calories from carbohydrates (FAO (2017))  Comm./Dem.  PARTICIPANT  GOLD  \\\n",
       "0                                   1522.39         1.0            4     0   \n",
       "1                                   1522.39         1.0           32     0   \n",
       "2                                   1522.39         1.0           12     0   \n",
       "3                                   1522.39         1.0           19     0   \n",
       "4                                   1522.39         1.0           19     0   \n",
       "\n",
       "   SILVER  BRONZE  \n",
       "0       0       0  \n",
       "1       1       0  \n",
       "2       0       0  \n",
       "3       1       0  \n",
       "4       0       0  "
      ]
     },
     "execution_count": 3,
     "metadata": {},
     "output_type": "execute_result"
    }
   ],
   "source": [
    "df.head()"
   ]
  },
  {
   "cell_type": "code",
   "execution_count": 4,
   "id": "22d1d83b",
   "metadata": {},
   "outputs": [],
   "source": [
    "df['Medal'] = df['GOLD'] * 5 + df['SILVER'] * 3 + df['BRONZE'] * 1"
   ]
  },
  {
   "cell_type": "code",
   "execution_count": 5,
   "id": "fc41c2e3",
   "metadata": {},
   "outputs": [
    {
     "data": {
      "text/plain": [
       "0      0\n",
       "1      3\n",
       "2      0\n",
       "3      3\n",
       "4      0\n",
       "      ..\n",
       "589    1\n",
       "590    0\n",
       "591    0\n",
       "592    0\n",
       "593    0\n",
       "Name: Medal, Length: 594, dtype: int64"
      ]
     },
     "execution_count": 5,
     "metadata": {},
     "output_type": "execute_result"
    }
   ],
   "source": [
    "df['Medal']"
   ]
  },
  {
   "cell_type": "code",
   "execution_count": 6,
   "id": "1e3e5745",
   "metadata": {},
   "outputs": [],
   "source": [
    "df =df.drop(columns=['GOLD', 'SILVER', 'BRONZE'])"
   ]
  },
  {
   "cell_type": "code",
   "execution_count": 7,
   "id": "82b0419b",
   "metadata": {},
   "outputs": [],
   "source": [
    "df = df.fillna(1)"
   ]
  },
  {
   "cell_type": "code",
   "execution_count": 8,
   "id": "c7e57742",
   "metadata": {},
   "outputs": [
    {
     "data": {
      "text/plain": [
       "Year                                         0\n",
       "Team                                         0\n",
       "Event                                        0\n",
       "GDP                                          0\n",
       "Population                                   0\n",
       "Host country                                 0\n",
       "Unemployment Rate (%)                        0\n",
       "Human development index(HDI)                 0\n",
       "Life expectancy                              0\n",
       "Calories from animal protein (FAO (2017))    0\n",
       "Calories from plant protein (FAO (2017))     0\n",
       "Calories from fat (FAO (2017))               0\n",
       "Calories from carbohydrates (FAO (2017))     0\n",
       "Comm./Dem.                                   0\n",
       "PARTICIPANT                                  0\n",
       "Medal                                        0\n",
       "dtype: int64"
      ]
     },
     "execution_count": 8,
     "metadata": {},
     "output_type": "execute_result"
    }
   ],
   "source": [
    "df.isna().sum()"
   ]
  },
  {
   "cell_type": "code",
   "execution_count": 12,
   "id": "8e6aec41",
   "metadata": {},
   "outputs": [],
   "source": [
    "import matplotlib.pyplot as plt"
   ]
  },
  {
   "cell_type": "code",
   "execution_count": 9,
   "id": "e9b0ff26",
   "metadata": {},
   "outputs": [],
   "source": [
    "df = df[(df['Medal'] == 1) | (df['Medal']==3) | (df['Medal']==5) | (df['Medal']==0) ]"
   ]
  },
  {
   "cell_type": "code",
   "execution_count": 10,
   "id": "73a8f529",
   "metadata": {},
   "outputs": [
    {
     "data": {
      "text/plain": [
       "(584, 16)"
      ]
     },
     "execution_count": 10,
     "metadata": {},
     "output_type": "execute_result"
    }
   ],
   "source": [
    "df.shape"
   ]
  },
  {
   "cell_type": "code",
   "execution_count": 13,
   "id": "baa6332a",
   "metadata": {},
   "outputs": [
    {
     "data": {
      "text/plain": [
       "<AxesSubplot:>"
      ]
     },
     "execution_count": 13,
     "metadata": {},
     "output_type": "execute_result"
    },
    {
     "data": {
      "image/png": "[encoded data removed]",
      "text/plain": [
       "<Figure size 432x288 with 1 Axes>"
      ]
     },
     "metadata": {
      "needs_background": "light"
     },
     "output_type": "display_data"
    }
   ],
   "source": [
    "fig, ax = plt.subplots()\n",
    "df['Medal'].value_counts().plot(ax=ax, kind='bar')"
   ]
  },
  {
   "cell_type": "code",
   "execution_count": null,
   "id": "710d7a80",
   "metadata": {},
   "outputs": [],
   "source": [
    "print(df.shape)"
   ]
  },
  {
   "cell_type": "code",
   "execution_count": 28,
   "id": "554b0e76",
   "metadata": {},
   "outputs": [
    {
     "data": {
      "text/plain": [
       "japan     66\n",
       "canada    66\n",
       "uk        66\n",
       "france    66\n",
       "india     66\n",
       "aus       65\n",
       "china     64\n",
       "italy     64\n",
       "us        61\n",
       "Name: Team, dtype: int64"
      ]
     },
     "execution_count": 28,
     "metadata": {},
     "output_type": "execute_result"
    }
   ],
   "source": [
    "df['Team'].value_counts()"
   ]
  },
  {
   "cell_type": "code",
   "execution_count": 31,
   "id": "1a83ec49",
   "metadata": {},
   "outputs": [],
   "source": [
    "team = {\n",
    "    \"aus\": 0,\n",
    "    \"canada\": 1,\n",
    "    \"china\": 2,\n",
    "    \"france\": 3,\n",
    "    \"india\": 4,\n",
    "    \"italy\": 5,\n",
    "    \"japan\": 6,\n",
    "    \"uk\": 7,\n",
    "    \"us\": 8\n",
    "}"
   ]
  },
  {
   "cell_type": "code",
   "execution_count": 38,
   "id": "95369e04",
   "metadata": {},
   "outputs": [],
   "source": [
    "events = {\n",
    "    'badminton': 0,\n",
    "    'boxing': 1,\n",
    "    'basketball': 2,\n",
    "    'cycling': 3,\n",
    "    'football': 4,\n",
    "    'gymnastics': 5,\n",
    "    'hockey': 6,\n",
    "    'shooting': 7,\n",
    "    'swimming': 8,\n",
    "    'Weightlifting': 9,\n",
    "    'wrestling': 10,\n",
    "    \n",
    "}\n",
    "\n",
    "// if event == badminton\n",
    "//    model.save('badmintion_model')\n",
    "//    model.predict(jdfal)\n",
    "//"
   ]
  },
  {
   "cell_type": "code",
   "execution_count": 39,
   "id": "b463e002",
   "metadata": {},
   "outputs": [],
   "source": [
    "df = df.replace({'Team': team})\n",
    "df = df.replace({'Event': events})"
   ]
  },
  {
   "cell_type": "code",
   "execution_count": 58,
   "id": "7937c587",
   "metadata": {},
   "outputs": [],
   "source": [
    "df['Population'] = [i.replace(\",\", \"\") for i in df['Population']]\n",
    "df['Population'] = df['Population'].astype(str).astype(int)\n",
    "df['GDP'] = [i.replace(\",\", \"\") for i in df['GDP']]\n",
    "df['GDP'] = df['GDP'].astype(str).astype(int)"
   ]
  },
  {
   "cell_type": "code",
   "execution_count": 59,
   "id": "9fe58be4",
   "metadata": {},
   "outputs": [
    {
     "data": {
      "text/plain": [
       "0       17402173\n",
       "1       17402173\n",
       "2       17402173\n",
       "3       17402173\n",
       "4       17402173\n",
       "         ...    \n",
       "589    314043885\n",
       "590    314043885\n",
       "591    314043885\n",
       "592    314043885\n",
       "593    314043885\n",
       "Name: Population, Length: 584, dtype: int64"
      ]
     },
     "execution_count": 59,
     "metadata": {},
     "output_type": "execute_result"
    }
   ],
   "source": [
    "df['Population'] "
   ]
  },
  {
   "cell_type": "code",
   "execution_count": 60,
   "id": "bf4f686a",
   "metadata": {},
   "outputs": [
    {
     "data": {
      "text/html": [
       "<div>\n",
       "<style scoped>\n",
       "    .dataframe tbody tr th:only-of-type {\n",
       "        vertical-align: middle;\n",
       "    }\n",
       "\n",
       "    .dataframe tbody tr th {\n",
       "        vertical-align: top;\n",
       "    }\n",
       "\n",
       "    .dataframe thead th {\n",
       "        text-align: right;\n",
       "    }\n",
       "</style>\n",
       "<table border=\"1\" class=\"dataframe\">\n",
       "  <thead>\n",
       "    <tr style=\"text-align: right;\">\n",
       "      <th></th>\n",
       "      <th>Year</th>\n",
       "      <th>Team</th>\n",
       "      <th>Event</th>\n",
       "      <th>GDP</th>\n",
       "      <th>Population</th>\n",
       "      <th>Host country</th>\n",
       "      <th>Unemployment Rate (%)</th>\n",
       "      <th>Human development index(HDI)</th>\n",
       "      <th>Life expectancy</th>\n",
       "      <th>Calories from animal protein (FAO (2017))</th>\n",
       "      <th>Calories from plant protein (FAO (2017))</th>\n",
       "      <th>Calories from fat (FAO (2017))</th>\n",
       "      <th>Calories from carbohydrates (FAO (2017))</th>\n",
       "      <th>Comm./Dem.</th>\n",
       "      <th>PARTICIPANT</th>\n",
       "      <th>Medal</th>\n",
       "    </tr>\n",
       "  </thead>\n",
       "  <tbody>\n",
       "    <tr>\n",
       "      <th>0</th>\n",
       "      <td>1992</td>\n",
       "      <td>0</td>\n",
       "      <td>9</td>\n",
       "      <td>18570</td>\n",
       "      <td>17402173</td>\n",
       "      <td>0</td>\n",
       "      <td>10.73</td>\n",
       "      <td>0.87</td>\n",
       "      <td>77.37805</td>\n",
       "      <td>283.56</td>\n",
       "      <td>133.48</td>\n",
       "      <td>1185.57</td>\n",
       "      <td>1522.39</td>\n",
       "      <td>1.0</td>\n",
       "      <td>4</td>\n",
       "      <td>0</td>\n",
       "    </tr>\n",
       "    <tr>\n",
       "      <th>1</th>\n",
       "      <td>1992</td>\n",
       "      <td>0</td>\n",
       "      <td>6</td>\n",
       "      <td>18570</td>\n",
       "      <td>17402173</td>\n",
       "      <td>0</td>\n",
       "      <td>10.73</td>\n",
       "      <td>0.87</td>\n",
       "      <td>77.37805</td>\n",
       "      <td>283.56</td>\n",
       "      <td>133.48</td>\n",
       "      <td>1185.57</td>\n",
       "      <td>1522.39</td>\n",
       "      <td>1.0</td>\n",
       "      <td>32</td>\n",
       "      <td>3</td>\n",
       "    </tr>\n",
       "    <tr>\n",
       "      <th>2</th>\n",
       "      <td>1992</td>\n",
       "      <td>0</td>\n",
       "      <td>2</td>\n",
       "      <td>18570</td>\n",
       "      <td>17402173</td>\n",
       "      <td>0</td>\n",
       "      <td>10.73</td>\n",
       "      <td>0.87</td>\n",
       "      <td>77.37805</td>\n",
       "      <td>283.56</td>\n",
       "      <td>133.48</td>\n",
       "      <td>1185.57</td>\n",
       "      <td>1522.39</td>\n",
       "      <td>1.0</td>\n",
       "      <td>12</td>\n",
       "      <td>0</td>\n",
       "    </tr>\n",
       "    <tr>\n",
       "      <th>3</th>\n",
       "      <td>1992</td>\n",
       "      <td>0</td>\n",
       "      <td>3</td>\n",
       "      <td>18570</td>\n",
       "      <td>17402173</td>\n",
       "      <td>0</td>\n",
       "      <td>10.73</td>\n",
       "      <td>0.87</td>\n",
       "      <td>77.37805</td>\n",
       "      <td>283.56</td>\n",
       "      <td>133.48</td>\n",
       "      <td>1185.57</td>\n",
       "      <td>1522.39</td>\n",
       "      <td>1.0</td>\n",
       "      <td>19</td>\n",
       "      <td>3</td>\n",
       "    </tr>\n",
       "    <tr>\n",
       "      <th>4</th>\n",
       "      <td>1992</td>\n",
       "      <td>0</td>\n",
       "      <td>4</td>\n",
       "      <td>18570</td>\n",
       "      <td>17402173</td>\n",
       "      <td>0</td>\n",
       "      <td>10.73</td>\n",
       "      <td>0.87</td>\n",
       "      <td>77.37805</td>\n",
       "      <td>283.56</td>\n",
       "      <td>133.48</td>\n",
       "      <td>1185.57</td>\n",
       "      <td>1522.39</td>\n",
       "      <td>1.0</td>\n",
       "      <td>19</td>\n",
       "      <td>0</td>\n",
       "    </tr>\n",
       "  </tbody>\n",
       "</table>\n",
       "</div>"
      ],
      "text/plain": [
       "   Year  Team  Event    GDP  Population  Host country  Unemployment Rate (%)  \\\n",
       "0  1992     0      9  18570    17402173             0                  10.73   \n",
       "1  1992     0      6  18570    17402173             0                  10.73   \n",
       "2  1992     0      2  18570    17402173             0                  10.73   \n",
       "3  1992     0      3  18570    17402173             0                  10.73   \n",
       "4  1992     0      4  18570    17402173             0                  10.73   \n",
       "\n",
       "   Human development index(HDI)  Life expectancy  \\\n",
       "0                          0.87         77.37805   \n",
       "1                          0.87         77.37805   \n",
       "2                          0.87         77.37805   \n",
       "3                          0.87         77.37805   \n",
       "4                          0.87         77.37805   \n",
       "\n",
       "   Calories from animal protein (FAO (2017))  \\\n",
       "0                                     283.56   \n",
       "1                                     283.56   \n",
       "2                                     283.56   \n",
       "3                                     283.56   \n",
       "4                                     283.56   \n",
       "\n",
       "   Calories from plant protein (FAO (2017))  Calories from fat (FAO (2017))  \\\n",
       "0                                    133.48                         1185.57   \n",
       "1                                    133.48                         1185.57   \n",
       "2                                    133.48                         1185.57   \n",
       "3                                    133.48                         1185.57   \n",
       "4                                    133.48                         1185.57   \n",
       "\n",
       "   Calories from carbohydrates (FAO (2017))  Comm./Dem.  PARTICIPANT  Medal  \n",
       "0                                   1522.39         1.0            4      0  \n",
       "1                                   1522.39         1.0           32      3  \n",
       "2                                   1522.39         1.0           12      0  \n",
       "3                                   1522.39         1.0           19      3  \n",
       "4                                   1522.39         1.0           19      0  "
      ]
     },
     "execution_count": 60,
     "metadata": {},
     "output_type": "execute_result"
    }
   ],
   "source": [
    "df.head()"
   ]
  },
  {
   "cell_type": "code",
   "execution_count": null,
   "id": "853db89d",
   "metadata": {},
   "outputs": [],
   "source": [
    "threshold = 2\n",
    "value_counts = df.stack().value_counts()\n",
    "to_remove = value_counts[value_counts <= threshold].index\n",
    "df = df.replace(to_remove, np.nan, inplace=True)"
   ]
  },
  {
   "cell_type": "code",
   "execution_count": 36,
   "id": "41d3f2ca",
   "metadata": {},
   "outputs": [
    {
     "data": {
      "text/plain": [
       "football         54\n",
       "badminton        54\n",
       "boxing           54\n",
       "basketball       54\n",
       "cycling          54\n",
       "hockey           54\n",
       "wrestling        53\n",
       "gymnastics       53\n",
       "Weightlifting    53\n",
       "shooting         52\n",
       "swimming         49\n",
       "Name: Event, dtype: int64"
      ]
     },
     "execution_count": 36,
     "metadata": {},
     "output_type": "execute_result"
    }
   ],
   "source": [
    "df.Event.value_counts()"
   ]
  },
  {
   "cell_type": "code",
   "execution_count": null,
   "id": "18997803",
   "metadata": {},
   "outputs": [],
   "source": [
    "df = df.fillna(1)\n",
    "print(df.isna().sum())"
   ]
  },
  {
   "cell_type": "code",
   "execution_count": 14,
   "id": "0c1b2b94",
   "metadata": {},
   "outputs": [],
   "source": [
    "from sklearn.preprocessing import StandardScaler\n",
    "from sklearn.preprocessing import OrdinalEncoder\n",
    "from sklearn.pipeline import make_pipeline\n",
    "from sklearn.linear_model import LogisticRegression\n",
    "from sklearn.model_selection import train_test_split"
   ]
  },
  {
   "cell_type": "code",
   "execution_count": 65,
   "id": "230fa026",
   "metadata": {},
   "outputs": [],
   "source": [
    "Y = df['Medal']\n",
    "X = df.drop(columns=['Medal'])"
   ]
  },
  {
   "cell_type": "code",
   "execution_count": 66,
   "id": "8d79d605",
   "metadata": {},
   "outputs": [
    {
     "data": {
      "text/html": [
       "<div>\n",
       "<style scoped>\n",
       "    .dataframe tbody tr th:only-of-type {\n",
       "        vertical-align: middle;\n",
       "    }\n",
       "\n",
       "    .dataframe tbody tr th {\n",
       "        vertical-align: top;\n",
       "    }\n",
       "\n",
       "    .dataframe thead th {\n",
       "        text-align: right;\n",
       "    }\n",
       "</style>\n",
       "<table border=\"1\" class=\"dataframe\">\n",
       "  <thead>\n",
       "    <tr style=\"text-align: right;\">\n",
       "      <th></th>\n",
       "      <th>Year</th>\n",
       "      <th>Team</th>\n",
       "      <th>Event</th>\n",
       "      <th>GDP</th>\n",
       "      <th>Population</th>\n",
       "      <th>Host country</th>\n",
       "      <th>Unemployment Rate (%)</th>\n",
       "      <th>Human development index(HDI)</th>\n",
       "      <th>Life expectancy</th>\n",
       "      <th>Calories from animal protein (FAO (2017))</th>\n",
       "      <th>Calories from plant protein (FAO (2017))</th>\n",
       "      <th>Calories from fat (FAO (2017))</th>\n",
       "      <th>Calories from carbohydrates (FAO (2017))</th>\n",
       "      <th>Comm./Dem.</th>\n",
       "      <th>PARTICIPANT</th>\n",
       "    </tr>\n",
       "  </thead>\n",
       "  <tbody>\n",
       "    <tr>\n",
       "      <th>0</th>\n",
       "      <td>1992</td>\n",
       "      <td>0</td>\n",
       "      <td>9</td>\n",
       "      <td>18570</td>\n",
       "      <td>17402173</td>\n",
       "      <td>0</td>\n",
       "      <td>10.73</td>\n",
       "      <td>0.87</td>\n",
       "      <td>77.37805</td>\n",
       "      <td>283.56</td>\n",
       "      <td>133.48</td>\n",
       "      <td>1185.57</td>\n",
       "      <td>1522.39</td>\n",
       "      <td>1.0</td>\n",
       "      <td>4</td>\n",
       "    </tr>\n",
       "    <tr>\n",
       "      <th>1</th>\n",
       "      <td>1992</td>\n",
       "      <td>0</td>\n",
       "      <td>6</td>\n",
       "      <td>18570</td>\n",
       "      <td>17402173</td>\n",
       "      <td>0</td>\n",
       "      <td>10.73</td>\n",
       "      <td>0.87</td>\n",
       "      <td>77.37805</td>\n",
       "      <td>283.56</td>\n",
       "      <td>133.48</td>\n",
       "      <td>1185.57</td>\n",
       "      <td>1522.39</td>\n",
       "      <td>1.0</td>\n",
       "      <td>32</td>\n",
       "    </tr>\n",
       "    <tr>\n",
       "      <th>2</th>\n",
       "      <td>1992</td>\n",
       "      <td>0</td>\n",
       "      <td>2</td>\n",
       "      <td>18570</td>\n",
       "      <td>17402173</td>\n",
       "      <td>0</td>\n",
       "      <td>10.73</td>\n",
       "      <td>0.87</td>\n",
       "      <td>77.37805</td>\n",
       "      <td>283.56</td>\n",
       "      <td>133.48</td>\n",
       "      <td>1185.57</td>\n",
       "      <td>1522.39</td>\n",
       "      <td>1.0</td>\n",
       "      <td>12</td>\n",
       "    </tr>\n",
       "    <tr>\n",
       "      <th>3</th>\n",
       "      <td>1992</td>\n",
       "      <td>0</td>\n",
       "      <td>3</td>\n",
       "      <td>18570</td>\n",
       "      <td>17402173</td>\n",
       "      <td>0</td>\n",
       "      <td>10.73</td>\n",
       "      <td>0.87</td>\n",
       "      <td>77.37805</td>\n",
       "      <td>283.56</td>\n",
       "      <td>133.48</td>\n",
       "      <td>1185.57</td>\n",
       "      <td>1522.39</td>\n",
       "      <td>1.0</td>\n",
       "      <td>19</td>\n",
       "    </tr>\n",
       "    <tr>\n",
       "      <th>4</th>\n",
       "      <td>1992</td>\n",
       "      <td>0</td>\n",
       "      <td>4</td>\n",
       "      <td>18570</td>\n",
       "      <td>17402173</td>\n",
       "      <td>0</td>\n",
       "      <td>10.73</td>\n",
       "      <td>0.87</td>\n",
       "      <td>77.37805</td>\n",
       "      <td>283.56</td>\n",
       "      <td>133.48</td>\n",
       "      <td>1185.57</td>\n",
       "      <td>1522.39</td>\n",
       "      <td>1.0</td>\n",
       "      <td>19</td>\n",
       "    </tr>\n",
       "  </tbody>\n",
       "</table>\n",
       "</div>"
      ],
      "text/plain": [
       "   Year  Team  Event    GDP  Population  Host country  Unemployment Rate (%)  \\\n",
       "0  1992     0      9  18570    17402173             0                  10.73   \n",
       "1  1992     0      6  18570    17402173             0                  10.73   \n",
       "2  1992     0      2  18570    17402173             0                  10.73   \n",
       "3  1992     0      3  18570    17402173             0                  10.73   \n",
       "4  1992     0      4  18570    17402173             0                  10.73   \n",
       "\n",
       "   Human development index(HDI)  Life expectancy  \\\n",
       "0                          0.87         77.37805   \n",
       "1                          0.87         77.37805   \n",
       "2                          0.87         77.37805   \n",
       "3                          0.87         77.37805   \n",
       "4                          0.87         77.37805   \n",
       "\n",
       "   Calories from animal protein (FAO (2017))  \\\n",
       "0                                     283.56   \n",
       "1                                     283.56   \n",
       "2                                     283.56   \n",
       "3                                     283.56   \n",
       "4                                     283.56   \n",
       "\n",
       "   Calories from plant protein (FAO (2017))  Calories from fat (FAO (2017))  \\\n",
       "0                                    133.48                         1185.57   \n",
       "1                                    133.48                         1185.57   \n",
       "2                                    133.48                         1185.57   \n",
       "3                                    133.48                         1185.57   \n",
       "4                                    133.48                         1185.57   \n",
       "\n",
       "   Calories from carbohydrates (FAO (2017))  Comm./Dem.  PARTICIPANT  \n",
       "0                                   1522.39         1.0            4  \n",
       "1                                   1522.39         1.0           32  \n",
       "2                                   1522.39         1.0           12  \n",
       "3                                   1522.39         1.0           19  \n",
       "4                                   1522.39         1.0           19  "
      ]
     },
     "execution_count": 66,
     "metadata": {},
     "output_type": "execute_result"
    }
   ],
   "source": [
    "X.head()"
   ]
  },
  {
   "cell_type": "code",
   "execution_count": 53,
   "id": "0eaaf508",
   "metadata": {},
   "outputs": [
    {
     "data": {
      "text/plain": [
       "0       17,402,173\n",
       "1       17,402,173\n",
       "2       17,402,173\n",
       "3       17,402,173\n",
       "4       17,402,173\n",
       "          ...     \n",
       "589    314,043,885\n",
       "590    314,043,885\n",
       "591    314,043,885\n",
       "592    314,043,885\n",
       "593    314,043,885\n",
       "Name: Population, Length: 584, dtype: object"
      ]
     },
     "execution_count": 53,
     "metadata": {},
     "output_type": "execute_result"
    }
   ],
   "source": []
  },
  {
   "cell_type": "code",
   "execution_count": 42,
   "id": "fe068b30",
   "metadata": {},
   "outputs": [
    {
     "data": {
      "text/plain": [
       "0      0\n",
       "1      3\n",
       "2      0\n",
       "3      3\n",
       "4      0\n",
       "      ..\n",
       "589    1\n",
       "590    0\n",
       "591    0\n",
       "592    0\n",
       "593    0\n",
       "Name: Medal, Length: 584, dtype: int64"
      ]
     },
     "execution_count": 42,
     "metadata": {},
     "output_type": "execute_result"
    }
   ],
   "source": [
    "Y"
   ]
  },
  {
   "cell_type": "code",
   "execution_count": 67,
   "id": "b6508f5d",
   "metadata": {},
   "outputs": [],
   "source": [
    "x_train, x_test, y_train, y_test = train_test_split(X, Y, test_size=0.25, stratify=Y)"
   ]
  },
  {
   "cell_type": "code",
   "execution_count": 68,
   "id": "dca72df1",
   "metadata": {},
   "outputs": [],
   "source": [
    "pipe = make_pipeline(StandardScaler(), LogisticRegression())"
   ]
  },
  {
   "cell_type": "code",
   "execution_count": 69,
   "id": "c1f0c40d",
   "metadata": {},
   "outputs": [
    {
     "data": {
      "text/plain": [
       "Pipeline(steps=[('standardscaler', StandardScaler()),\n",
       "                ('logisticregression', LogisticRegression())])"
      ]
     },
     "execution_count": 69,
     "metadata": {},
     "output_type": "execute_result"
    }
   ],
   "source": [
    "pipe.fit(x_train, y_train)"
   ]
  },
  {
   "cell_type": "code",
   "execution_count": 70,
   "id": "281a5202",
   "metadata": {},
   "outputs": [
    {
     "data": {
      "text/plain": [
       "0.8835616438356164"
      ]
     },
     "execution_count": 70,
     "metadata": {},
     "output_type": "execute_result"
    }
   ],
   "source": [
    "pipe.score(x_test, y_test)"
   ]
  },
  {
   "cell_type": "code",
   "execution_count": 74,
   "id": "b3bc8aee",
   "metadata": {},
   "outputs": [
    {
     "ename": "ValueError",
     "evalue": "Expected array-like (array or non-string sequence), got None",
     "output_type": "error",
     "traceback": [
      "\u001b[0;31m---------------------------------------------------------------------------\u001b[0m",
      "\u001b[0;31mValueError\u001b[0m                                Traceback (most recent call last)",
      "\u001b[0;32m<ipython-input-74-bd7ec6591ce7>\u001b[0m in \u001b[0;36m<module>\u001b[0;34m\u001b[0m\n\u001b[0;32m----> 1\u001b[0;31m \u001b[0mpipe\u001b[0m\u001b[0;34m.\u001b[0m\u001b[0mscore\u001b[0m\u001b[0;34m(\u001b[0m\u001b[0mx_train\u001b[0m\u001b[0;34m)\u001b[0m\u001b[0;34m\u001b[0m\u001b[0;34m\u001b[0m\u001b[0m\n\u001b[0m",
      "\u001b[0;32m~/anaconda3/envs/ml/lib/python3.9/site-packages/sklearn/utils/metaestimators.py\u001b[0m in \u001b[0;36m<lambda>\u001b[0;34m(*args, **kwargs)\u001b[0m\n\u001b[1;32m    118\u001b[0m \u001b[0;34m\u001b[0m\u001b[0m\n\u001b[1;32m    119\u001b[0m         \u001b[0;31m# lambda, but not partial, allows help() to work with update_wrapper\u001b[0m\u001b[0;34m\u001b[0m\u001b[0;34m\u001b[0m\u001b[0;34m\u001b[0m\u001b[0m\n\u001b[0;32m--> 120\u001b[0;31m         \u001b[0mout\u001b[0m \u001b[0;34m=\u001b[0m \u001b[0;32mlambda\u001b[0m \u001b[0;34m*\u001b[0m\u001b[0margs\u001b[0m\u001b[0;34m,\u001b[0m \u001b[0;34m**\u001b[0m\u001b[0mkwargs\u001b[0m\u001b[0;34m:\u001b[0m \u001b[0mself\u001b[0m\u001b[0;34m.\u001b[0m\u001b[0mfn\u001b[0m\u001b[0;34m(\u001b[0m\u001b[0mobj\u001b[0m\u001b[0;34m,\u001b[0m \u001b[0;34m*\u001b[0m\u001b[0margs\u001b[0m\u001b[0;34m,\u001b[0m \u001b[0;34m**\u001b[0m\u001b[0mkwargs\u001b[0m\u001b[0;34m)\u001b[0m\u001b[0;34m\u001b[0m\u001b[0;34m\u001b[0m\u001b[0m\n\u001b[0m\u001b[1;32m    121\u001b[0m         \u001b[0;31m# update the docstring of the returned function\u001b[0m\u001b[0;34m\u001b[0m\u001b[0;34m\u001b[0m\u001b[0;34m\u001b[0m\u001b[0m\n\u001b[1;32m    122\u001b[0m         \u001b[0mupdate_wrapper\u001b[0m\u001b[0;34m(\u001b[0m\u001b[0mout\u001b[0m\u001b[0;34m,\u001b[0m \u001b[0mself\u001b[0m\u001b[0;34m.\u001b[0m\u001b[0mfn\u001b[0m\u001b[0;34m)\u001b[0m\u001b[0;34m\u001b[0m\u001b[0;34m\u001b[0m\u001b[0m\n",
      "\u001b[0;32m~/anaconda3/envs/ml/lib/python3.9/site-packages/sklearn/pipeline.py\u001b[0m in \u001b[0;36mscore\u001b[0;34m(self, X, y, sample_weight)\u001b[0m\n\u001b[1;32m    620\u001b[0m         \u001b[0;32mif\u001b[0m \u001b[0msample_weight\u001b[0m \u001b[0;32mis\u001b[0m \u001b[0;32mnot\u001b[0m \u001b[0;32mNone\u001b[0m\u001b[0;34m:\u001b[0m\u001b[0;34m\u001b[0m\u001b[0;34m\u001b[0m\u001b[0m\n\u001b[1;32m    621\u001b[0m             \u001b[0mscore_params\u001b[0m\u001b[0;34m[\u001b[0m\u001b[0;34m'sample_weight'\u001b[0m\u001b[0;34m]\u001b[0m \u001b[0;34m=\u001b[0m \u001b[0msample_weight\u001b[0m\u001b[0;34m\u001b[0m\u001b[0;34m\u001b[0m\u001b[0m\n\u001b[0;32m--> 622\u001b[0;31m         \u001b[0;32mreturn\u001b[0m \u001b[0mself\u001b[0m\u001b[0;34m.\u001b[0m\u001b[0msteps\u001b[0m\u001b[0;34m[\u001b[0m\u001b[0;34m-\u001b[0m\u001b[0;36m1\u001b[0m\u001b[0;34m]\u001b[0m\u001b[0;34m[\u001b[0m\u001b[0;34m-\u001b[0m\u001b[0;36m1\u001b[0m\u001b[0;34m]\u001b[0m\u001b[0;34m.\u001b[0m\u001b[0mscore\u001b[0m\u001b[0;34m(\u001b[0m\u001b[0mXt\u001b[0m\u001b[0;34m,\u001b[0m \u001b[0my\u001b[0m\u001b[0;34m,\u001b[0m \u001b[0;34m**\u001b[0m\u001b[0mscore_params\u001b[0m\u001b[0;34m)\u001b[0m\u001b[0;34m\u001b[0m\u001b[0;34m\u001b[0m\u001b[0m\n\u001b[0m\u001b[1;32m    623\u001b[0m \u001b[0;34m\u001b[0m\u001b[0m\n\u001b[1;32m    624\u001b[0m     \u001b[0;34m@\u001b[0m\u001b[0mproperty\u001b[0m\u001b[0;34m\u001b[0m\u001b[0;34m\u001b[0m\u001b[0m\n",
      "\u001b[0;32m~/anaconda3/envs/ml/lib/python3.9/site-packages/sklearn/base.py\u001b[0m in \u001b[0;36mscore\u001b[0;34m(self, X, y, sample_weight)\u001b[0m\n\u001b[1;32m    498\u001b[0m         \"\"\"\n\u001b[1;32m    499\u001b[0m         \u001b[0;32mfrom\u001b[0m \u001b[0;34m.\u001b[0m\u001b[0mmetrics\u001b[0m \u001b[0;32mimport\u001b[0m \u001b[0maccuracy_score\u001b[0m\u001b[0;34m\u001b[0m\u001b[0;34m\u001b[0m\u001b[0m\n\u001b[0;32m--> 500\u001b[0;31m         \u001b[0;32mreturn\u001b[0m \u001b[0maccuracy_score\u001b[0m\u001b[0;34m(\u001b[0m\u001b[0my\u001b[0m\u001b[0;34m,\u001b[0m \u001b[0mself\u001b[0m\u001b[0;34m.\u001b[0m\u001b[0mpredict\u001b[0m\u001b[0;34m(\u001b[0m\u001b[0mX\u001b[0m\u001b[0;34m)\u001b[0m\u001b[0;34m,\u001b[0m \u001b[0msample_weight\u001b[0m\u001b[0;34m=\u001b[0m\u001b[0msample_weight\u001b[0m\u001b[0;34m)\u001b[0m\u001b[0;34m\u001b[0m\u001b[0;34m\u001b[0m\u001b[0m\n\u001b[0m\u001b[1;32m    501\u001b[0m \u001b[0;34m\u001b[0m\u001b[0m\n\u001b[1;32m    502\u001b[0m     \u001b[0;32mdef\u001b[0m \u001b[0m_more_tags\u001b[0m\u001b[0;34m(\u001b[0m\u001b[0mself\u001b[0m\u001b[0;34m)\u001b[0m\u001b[0;34m:\u001b[0m\u001b[0;34m\u001b[0m\u001b[0;34m\u001b[0m\u001b[0m\n",
      "\u001b[0;32m~/anaconda3/envs/ml/lib/python3.9/site-packages/sklearn/utils/validation.py\u001b[0m in \u001b[0;36minner_f\u001b[0;34m(*args, **kwargs)\u001b[0m\n\u001b[1;32m     61\u001b[0m             \u001b[0mextra_args\u001b[0m \u001b[0;34m=\u001b[0m \u001b[0mlen\u001b[0m\u001b[0;34m(\u001b[0m\u001b[0margs\u001b[0m\u001b[0;34m)\u001b[0m \u001b[0;34m-\u001b[0m \u001b[0mlen\u001b[0m\u001b[0;34m(\u001b[0m\u001b[0mall_args\u001b[0m\u001b[0;34m)\u001b[0m\u001b[0;34m\u001b[0m\u001b[0;34m\u001b[0m\u001b[0m\n\u001b[1;32m     62\u001b[0m             \u001b[0;32mif\u001b[0m \u001b[0mextra_args\u001b[0m \u001b[0;34m<=\u001b[0m \u001b[0;36m0\u001b[0m\u001b[0;34m:\u001b[0m\u001b[0;34m\u001b[0m\u001b[0;34m\u001b[0m\u001b[0m\n\u001b[0;32m---> 63\u001b[0;31m                 \u001b[0;32mreturn\u001b[0m \u001b[0mf\u001b[0m\u001b[0;34m(\u001b[0m\u001b[0;34m*\u001b[0m\u001b[0margs\u001b[0m\u001b[0;34m,\u001b[0m \u001b[0;34m**\u001b[0m\u001b[0mkwargs\u001b[0m\u001b[0;34m)\u001b[0m\u001b[0;34m\u001b[0m\u001b[0;34m\u001b[0m\u001b[0m\n\u001b[0m\u001b[1;32m     64\u001b[0m \u001b[0;34m\u001b[0m\u001b[0m\n\u001b[1;32m     65\u001b[0m             \u001b[0;31m# extra_args > 0\u001b[0m\u001b[0;34m\u001b[0m\u001b[0;34m\u001b[0m\u001b[0;34m\u001b[0m\u001b[0m\n",
      "\u001b[0;32m~/anaconda3/envs/ml/lib/python3.9/site-packages/sklearn/metrics/_classification.py\u001b[0m in \u001b[0;36maccuracy_score\u001b[0;34m(y_true, y_pred, normalize, sample_weight)\u001b[0m\n\u001b[1;32m    200\u001b[0m \u001b[0;34m\u001b[0m\u001b[0m\n\u001b[1;32m    201\u001b[0m     \u001b[0;31m# Compute accuracy for each possible representation\u001b[0m\u001b[0;34m\u001b[0m\u001b[0;34m\u001b[0m\u001b[0;34m\u001b[0m\u001b[0m\n\u001b[0;32m--> 202\u001b[0;31m     \u001b[0my_type\u001b[0m\u001b[0;34m,\u001b[0m \u001b[0my_true\u001b[0m\u001b[0;34m,\u001b[0m \u001b[0my_pred\u001b[0m \u001b[0;34m=\u001b[0m \u001b[0m_check_targets\u001b[0m\u001b[0;34m(\u001b[0m\u001b[0my_true\u001b[0m\u001b[0;34m,\u001b[0m \u001b[0my_pred\u001b[0m\u001b[0;34m)\u001b[0m\u001b[0;34m\u001b[0m\u001b[0;34m\u001b[0m\u001b[0m\n\u001b[0m\u001b[1;32m    203\u001b[0m     \u001b[0mcheck_consistent_length\u001b[0m\u001b[0;34m(\u001b[0m\u001b[0my_true\u001b[0m\u001b[0;34m,\u001b[0m \u001b[0my_pred\u001b[0m\u001b[0;34m,\u001b[0m \u001b[0msample_weight\u001b[0m\u001b[0;34m)\u001b[0m\u001b[0;34m\u001b[0m\u001b[0;34m\u001b[0m\u001b[0m\n\u001b[1;32m    204\u001b[0m     \u001b[0;32mif\u001b[0m \u001b[0my_type\u001b[0m\u001b[0;34m.\u001b[0m\u001b[0mstartswith\u001b[0m\u001b[0;34m(\u001b[0m\u001b[0;34m'multilabel'\u001b[0m\u001b[0;34m)\u001b[0m\u001b[0;34m:\u001b[0m\u001b[0;34m\u001b[0m\u001b[0;34m\u001b[0m\u001b[0m\n",
      "\u001b[0;32m~/anaconda3/envs/ml/lib/python3.9/site-packages/sklearn/metrics/_classification.py\u001b[0m in \u001b[0;36m_check_targets\u001b[0;34m(y_true, y_pred)\u001b[0m\n\u001b[1;32m     82\u001b[0m     \"\"\"\n\u001b[1;32m     83\u001b[0m     \u001b[0mcheck_consistent_length\u001b[0m\u001b[0;34m(\u001b[0m\u001b[0my_true\u001b[0m\u001b[0;34m,\u001b[0m \u001b[0my_pred\u001b[0m\u001b[0;34m)\u001b[0m\u001b[0;34m\u001b[0m\u001b[0;34m\u001b[0m\u001b[0m\n\u001b[0;32m---> 84\u001b[0;31m     \u001b[0mtype_true\u001b[0m \u001b[0;34m=\u001b[0m \u001b[0mtype_of_target\u001b[0m\u001b[0;34m(\u001b[0m\u001b[0my_true\u001b[0m\u001b[0;34m)\u001b[0m\u001b[0;34m\u001b[0m\u001b[0;34m\u001b[0m\u001b[0m\n\u001b[0m\u001b[1;32m     85\u001b[0m     \u001b[0mtype_pred\u001b[0m \u001b[0;34m=\u001b[0m \u001b[0mtype_of_target\u001b[0m\u001b[0;34m(\u001b[0m\u001b[0my_pred\u001b[0m\u001b[0;34m)\u001b[0m\u001b[0;34m\u001b[0m\u001b[0;34m\u001b[0m\u001b[0m\n\u001b[1;32m     86\u001b[0m \u001b[0;34m\u001b[0m\u001b[0m\n",
      "\u001b[0;32m~/anaconda3/envs/ml/lib/python3.9/site-packages/sklearn/utils/multiclass.py\u001b[0m in \u001b[0;36mtype_of_target\u001b[0;34m(y)\u001b[0m\n\u001b[1;32m    252\u001b[0m \u001b[0;34m\u001b[0m\u001b[0m\n\u001b[1;32m    253\u001b[0m     \u001b[0;32mif\u001b[0m \u001b[0;32mnot\u001b[0m \u001b[0mvalid\u001b[0m\u001b[0;34m:\u001b[0m\u001b[0;34m\u001b[0m\u001b[0;34m\u001b[0m\u001b[0m\n\u001b[0;32m--> 254\u001b[0;31m         raise ValueError('Expected array-like (array or non-string sequence), '\n\u001b[0m\u001b[1;32m    255\u001b[0m                          'got %r' % y)\n\u001b[1;32m    256\u001b[0m \u001b[0;34m\u001b[0m\u001b[0m\n",
      "\u001b[0;31mValueError\u001b[0m: Expected array-like (array or non-string sequence), got None"
     ]
    }
   ],
   "source": [
    "pipe.score(x_train)"
   ]
  },
  {
   "cell_type": "code",
   "execution_count": null,
   "id": "e5d536ac",
   "metadata": {},
   "outputs": [],
   "source": [
    "pipe.predict([[2020, 68310,331449281,0,8.31,0.926,77.3,279.04,159.68,1460.07,1788.21,1,96]])"
   ]
  }
 ],
 "metadata": {
  "kernelspec": {
   "display_name": "Python 3.9.4 64-bit ('ml': conda)",
   "language": "python",
   "name": "python394jvsc74a57bd06fa65de9a85dcf90df9024b340d650f7e78e4fd98927b788a083f3bcf2787057"
  },
  "language_info": {
   "codemirror_mode": {
    "name": "ipython",
    "version": 3
   },
   "file_extension": ".py",
   "mimetype": "text/x-python",
   "name": "python",
   "nbconvert_exporter": "python",
   "pygments_lexer": "ipython3",
   "version": "3.9.4"
  }
 },
 "nbformat": 4,
 "nbformat_minor": 5
}
